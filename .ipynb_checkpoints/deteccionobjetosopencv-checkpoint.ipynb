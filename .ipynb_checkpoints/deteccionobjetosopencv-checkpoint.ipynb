{
 "cells": [
  {
   "cell_type": "code",
   "execution_count": 14,
   "metadata": {},
   "outputs": [],
   "source": [
    "import cv2"
   ]
  },
  {
   "cell_type": "code",
   "execution_count": 56,
   "metadata": {},
   "outputs": [
    {
     "name": "stdout",
     "output_type": "stream",
     "text": [
      "3.4.5\n"
     ]
    }
   ],
   "source": [
    "import numpy as np\n",
    "print(cv2.__version__)"
   ]
  },
  {
   "cell_type": "code",
   "execution_count": 69,
   "metadata": {},
   "outputs": [],
   "source": [
    "# solo encuentra un objeto a la vez.\n",
    "cam= cv2.VideoCapture(0)\n",
    "kernel= np.ones((5,5),np.uint8)\n",
    "while(True):\n",
    "    ret, frame= cam.read()\n",
    "    rangomax=np.array([255,50,50]) # sigue al color  a detectar(50,255,50) esta blue, green, red;(255,50,50 para azul)\n",
    "    rangomin= np.array([50,0,0]) # [0,51,0]; (50,0,0 para azul)\n",
    "    mascara= cv2.inRange(frame,rangomin,rangomax)\n",
    "    opening= cv2.morphologyEx(mascara,cv2.MORPH_OPEN,kernel)\n",
    "    x,y,w,h= cv2.boundingRect(opening)\n",
    "    cv2.rectangle(frame,(x,y),(x+w,y+h),(0,255,0),4) # define el color del rectangulo\n",
    "    cv2.circle(frame,(np.float32(x+w/2),np.float32(y+h/2)),6,(0,0,100),-1) # circulo del centro el -1 es para rellenar el circulo\n",
    "    cv2.imshow('camara',frame)\n",
    "    k=cv2.waitKey(1)\n",
    "    if k==27: # se cierra la ventana con esc \n",
    "        break            \n",
    "cv2.destroyAllWindows()"
   ]
  },
  {
   "cell_type": "code",
   "execution_count": null,
   "metadata": {},
   "outputs": [],
   "source": []
  }
 ],
 "metadata": {
  "kernelspec": {
   "display_name": "Python 3",
   "language": "python",
   "name": "python3"
  },
  "language_info": {
   "codemirror_mode": {
    "name": "ipython",
    "version": 3
   },
   "file_extension": ".py",
   "mimetype": "text/x-python",
   "name": "python",
   "nbconvert_exporter": "python",
   "pygments_lexer": "ipython3",
   "version": "3.6.7"
  }
 },
 "nbformat": 4,
 "nbformat_minor": 2
}
